{
 "cells": [
  {
   "cell_type": "code",
   "execution_count": 1,
   "metadata": {},
   "outputs": [],
   "source": [
    "import pandas as pd\n",
    "import spacy\n",
    "from sklearn.feature_extraction.text import TfidfVectorizer\n",
    "from sklearn.metrics.pairwise import cosine_similarity"
   ]
  },
  {
   "cell_type": "code",
   "execution_count": 2,
   "metadata": {},
   "outputs": [],
   "source": [
    "nlp = spacy.load('pt_core_news_sm')"
   ]
  },
  {
   "cell_type": "code",
   "execution_count": 3,
   "metadata": {},
   "outputs": [],
   "source": [
    "df = pd.read_json(\"../data/raw/palestras.json\")\n",
    "df.reset_index(inplace=True)"
   ]
  },
  {
   "cell_type": "code",
   "execution_count": 4,
   "metadata": {},
   "outputs": [
    {
     "data": {
      "text/html": [
       "<div>\n",
       "<style scoped>\n",
       "    .dataframe tbody tr th:only-of-type {\n",
       "        vertical-align: middle;\n",
       "    }\n",
       "\n",
       "    .dataframe tbody tr th {\n",
       "        vertical-align: top;\n",
       "    }\n",
       "\n",
       "    .dataframe thead th {\n",
       "        text-align: right;\n",
       "    }\n",
       "</style>\n",
       "<table border=\"1\" class=\"dataframe\">\n",
       "  <thead>\n",
       "    <tr style=\"text-align: right;\">\n",
       "      <th></th>\n",
       "      <th>index</th>\n",
       "      <th>title</th>\n",
       "      <th>description</th>\n",
       "      <th>trilha</th>\n",
       "      <th>ano</th>\n",
       "      <th>cidade</th>\n",
       "      <th>trilha_url</th>\n",
       "    </tr>\n",
       "  </thead>\n",
       "  <tbody>\n",
       "    <tr>\n",
       "      <th>0</th>\n",
       "      <td>1000</td>\n",
       "      <td>KEAS -  Kit de Adaptação Esportiva para Surdos</td>\n",
       "      <td>O projeto foi ocorrido do meu TCC da Universid...</td>\n",
       "      <td>trilha-internet-das-coisas</td>\n",
       "      <td>2017</td>\n",
       "      <td>florianopolis</td>\n",
       "      <td>http://www.thedevelopersconference.com.br/tdc/...</td>\n",
       "    </tr>\n",
       "    <tr>\n",
       "      <th>1</th>\n",
       "      <td>10000</td>\n",
       "      <td>Data Driven Organizations: como este conceito ...</td>\n",
       "      <td>Que conceito é esse analisado pela Forbes, pel...</td>\n",
       "      <td>trilha-data-science</td>\n",
       "      <td>2017</td>\n",
       "      <td>portoalegre</td>\n",
       "      <td>http://www.thedevelopersconference.com.br/tdc/...</td>\n",
       "    </tr>\n",
       "    <tr>\n",
       "      <th>2</th>\n",
       "      <td>10001</td>\n",
       "      <td>Aplicações, técnicas e ferramentas para descob...</td>\n",
       "      <td>A área de Descoberta de Conhecimento em Textos...</td>\n",
       "      <td>trilha-data-science</td>\n",
       "      <td>2017</td>\n",
       "      <td>portoalegre</td>\n",
       "      <td>http://www.thedevelopersconference.com.br/tdc/...</td>\n",
       "    </tr>\n",
       "    <tr>\n",
       "      <th>3</th>\n",
       "      <td>10002</td>\n",
       "      <td>Mineração de processos em ação - da teoria a r...</td>\n",
       "      <td>Mineração de processos é uma disciplina relati...</td>\n",
       "      <td>trilha-data-science</td>\n",
       "      <td>2017</td>\n",
       "      <td>portoalegre</td>\n",
       "      <td>http://www.thedevelopersconference.com.br/tdc/...</td>\n",
       "    </tr>\n",
       "    <tr>\n",
       "      <th>4</th>\n",
       "      <td>10003</td>\n",
       "      <td>Aplicando uma Camada de Ciência no Marketing D...</td>\n",
       "      <td>A Ciência de Dados vem conquistando espaço em ...</td>\n",
       "      <td>trilha-data-science</td>\n",
       "      <td>2017</td>\n",
       "      <td>portoalegre</td>\n",
       "      <td>http://www.thedevelopersconference.com.br/tdc/...</td>\n",
       "    </tr>\n",
       "  </tbody>\n",
       "</table>\n",
       "</div>"
      ],
      "text/plain": [
       "   index                                              title  \\\n",
       "0   1000     KEAS -  Kit de Adaptação Esportiva para Surdos   \n",
       "1  10000  Data Driven Organizations: como este conceito ...   \n",
       "2  10001  Aplicações, técnicas e ferramentas para descob...   \n",
       "3  10002  Mineração de processos em ação - da teoria a r...   \n",
       "4  10003  Aplicando uma Camada de Ciência no Marketing D...   \n",
       "\n",
       "                                         description  \\\n",
       "0  O projeto foi ocorrido do meu TCC da Universid...   \n",
       "1  Que conceito é esse analisado pela Forbes, pel...   \n",
       "2  A área de Descoberta de Conhecimento em Textos...   \n",
       "3  Mineração de processos é uma disciplina relati...   \n",
       "4  A Ciência de Dados vem conquistando espaço em ...   \n",
       "\n",
       "                       trilha   ano         cidade  \\\n",
       "0  trilha-internet-das-coisas  2017  florianopolis   \n",
       "1         trilha-data-science  2017    portoalegre   \n",
       "2         trilha-data-science  2017    portoalegre   \n",
       "3         trilha-data-science  2017    portoalegre   \n",
       "4         trilha-data-science  2017    portoalegre   \n",
       "\n",
       "                                          trilha_url  \n",
       "0  http://www.thedevelopersconference.com.br/tdc/...  \n",
       "1  http://www.thedevelopersconference.com.br/tdc/...  \n",
       "2  http://www.thedevelopersconference.com.br/tdc/...  \n",
       "3  http://www.thedevelopersconference.com.br/tdc/...  \n",
       "4  http://www.thedevelopersconference.com.br/tdc/...  "
      ]
     },
     "execution_count": 4,
     "metadata": {},
     "output_type": "execute_result"
    }
   ],
   "source": [
    "df.head()"
   ]
  },
  {
   "cell_type": "code",
   "execution_count": 5,
   "metadata": {},
   "outputs": [
    {
     "data": {
      "text/plain": [
       "(3209, 7)"
      ]
     },
     "execution_count": 5,
     "metadata": {},
     "output_type": "execute_result"
    }
   ],
   "source": [
    "df.shape"
   ]
  },
  {
   "cell_type": "markdown",
   "metadata": {},
   "source": [
    "### 1. Juntar título e descrição"
   ]
  },
  {
   "cell_type": "code",
   "execution_count": 6,
   "metadata": {},
   "outputs": [],
   "source": [
    "palestras = df[[\"title\",\"description\"]].to_dict(orient=\"records\")\n",
    "# string única'\n",
    "palestras = [k[\"title\"]+\" \"+k[\"description\"] for k in palestras]"
   ]
  },
  {
   "cell_type": "markdown",
   "metadata": {},
   "source": [
    "### 2. Extrair o lemma de cada palavra a remover stopwords"
   ]
  },
  {
   "cell_type": "code",
   "execution_count": 8,
   "metadata": {},
   "outputs": [],
   "source": [
    "palestras_sem_stopwords = []\n",
    "palestras_docs = list(nlp.pipe(palestras, disable=[\"parser\",\"ner\"]))\n",
    "\n",
    "for palestra in palestras_docs:\n",
    "    tokens = [t.lemma_ for t in palestra if (not t.is_stop and t.is_alpha and (not t.pos_ == \"ADV\"))]\n",
    "    palestra = \" \".join(tokens)\n",
    "    palestras_sem_stopwords.append(palestra)"
   ]
  },
  {
   "cell_type": "markdown",
   "metadata": {},
   "source": [
    "### 3. Criar matriz com o TfidfVectorizer"
   ]
  },
  {
   "cell_type": "code",
   "execution_count": 9,
   "metadata": {},
   "outputs": [
    {
     "data": {
      "text/plain": [
       "<3209x11010 sparse matrix of type '<class 'numpy.float64'>'\n",
       "\twith 91941 stored elements in Compressed Sparse Row format>"
      ]
     },
     "execution_count": 9,
     "metadata": {},
     "output_type": "execute_result"
    }
   ],
   "source": [
    "vect = TfidfVectorizer()\n",
    "tfidf = vect.fit_transform(palestras_sem_stopwords)\n",
    "tfidf"
   ]
  },
  {
   "cell_type": "markdown",
   "metadata": {},
   "source": [
    "### 4. Computar similaridade dos cosenos"
   ]
  },
  {
   "cell_type": "code",
   "execution_count": 14,
   "metadata": {},
   "outputs": [],
   "source": [
    "input_data = \"O Pipeline do Scikit-learn é um objeto da biblioteca que facilita bastante o processamento de dados, sendo possível tanto treinar quando fazer predições utilizando a mesma Pipeline. Usar os modelos no Jupyter Notebook é uma das tarefas que realizamos durante as análises, mas o objetivo final de muitas soluções é integrar os modelos com alguma aplicação (normalmente aplicações web). Nesta palestra vamos treinar um modelo usando o scikit-learn e usar o Flask para construir uma API REST capaz de disponibilizar o modelo como um serviço web.\"\n",
    "#input_data = \"Testes de hardware geralmente são muito detalhados. Os testes são necessários para garantir que todos os componentes de um sistema estejam operando como deveriam e que o sistema esteja funcionando exatamente de acordo com os requisitos especificados. Nessa palestra, serão apresentados alguns dos principais processos a serem seguidos para testar um Hardware recém desenvolvido.\"\n",
    "\n",
    "input_data = list(nlp.pipe([input_data], disable=[\"parser\",\"ner\"]))[0]\n",
    "input_data = [t.lemma_ for t in input_data if (not t.is_stop and t.is_alpha)]\n",
    "input_data = \" \".join(input_data)\n",
    "\n",
    "y = vect.transform([input_data])\n",
    "\n",
    "cosine_similarities = pd.Series(cosine_similarity(tfidf, y).flatten())\n",
    "\n",
    "results = []\n",
    "for index,score in cosine_similarities.nlargest(int(5)).iteritems():\n",
    "    palestra = {}\n",
    "    palestra[\"trilha\"] = df.iloc[index].trilha\n",
    "    palestra[\"cidade\"] = df.iloc[index].cidade\n",
    "    palestra[\"ano\"] = df.iloc[index].ano\n",
    "    palestra[\"descricao\"] = palestras[index]\n",
    "    palestra[\"similaridade\"] = score\n",
    "    results.append(palestra)"
   ]
  },
  {
   "cell_type": "code",
   "execution_count": 26,
   "metadata": {},
   "outputs": [
    {
     "data": {
      "text/html": [
       "<table border=\"1\" class=\"dataframe\">\n",
       "  <thead>\n",
       "    <tr style=\"text-align: right;\">\n",
       "      <th></th>\n",
       "      <th>ano</th>\n",
       "      <th>cidade</th>\n",
       "      <th>descricao</th>\n",
       "      <th>similaridade</th>\n",
       "      <th>trilha</th>\n",
       "    </tr>\n",
       "  </thead>\n",
       "  <tbody>\n",
       "    <tr>\n",
       "      <th>0</th>\n",
       "      <td>2018</td>\n",
       "      <td>portoalegre</td>\n",
       "      <td>Como criar um Android com cérebro de pássaro Nesta palestra descreveremos um jeito simples e rápido de embutir modelos de inteligência artificial em dispositivos Android, através da serialização de objetos Java. Iremos gerar um modelo de conhecimento a partir de técnicas clássicas de machine learning com o auxílio da API Weka, realizando o treino desse modelo em um computador e gerando predições diretamente no celular.</td>\n",
       "      <td>0.244188</td>\n",
       "      <td>trilha-inteligencia-artificial</td>\n",
       "    </tr>\n",
       "    <tr>\n",
       "      <th>1</th>\n",
       "      <td>2018</td>\n",
       "      <td>florianopolis</td>\n",
       "      <td>Marvin - Inteligência artificial de A a Z Marvin é a plataforma de código aberto que está ajudando os times de ciência de dados do maior e-commerce da América Latina a produzir modelos capazes de realizar a precificação dinâmica de itens na web e detectar fraudes nas operações financeiras durante a Black Friday. O Marvin é composto de ferramentas, bibliotecas e um poderoso servidor de aplicação que expõe micro serviços capazes de realizar predições em milissegundos.</td>\n",
       "      <td>0.188860</td>\n",
       "      <td>trilha-machine-learning</td>\n",
       "    </tr>\n",
       "    <tr>\n",
       "      <th>2</th>\n",
       "      <td>2018</td>\n",
       "      <td>portoalegre</td>\n",
       "      <td>Criando API REST com python flask e mongodb Uma introdução a api rest, utilizando a linguagem python com framework flask e banco de dados noSQL mongodb, apresentar os conceitos de api, motivação a usar a linguagem python e vantagens de utilizar banco noSQL.</td>\n",
       "      <td>0.183722</td>\n",
       "      <td>trilha-python</td>\n",
       "    </tr>\n",
       "    <tr>\n",
       "      <th>3</th>\n",
       "      <td>2018</td>\n",
       "      <td>saopaulo</td>\n",
       "      <td>Utilizando Serviços Cognitivos nos seus Apps! Saiba como utilizar todo o poder de bibliotecas como CoreML e TensorFlow para fazer com que seus aplicativos tirem proveito de modelos de aprendizado de máquina treinados para resolver problemas como reconhecimento de imagens. E o melhor: Offline!</td>\n",
       "      <td>0.183683</td>\n",
       "      <td>trilha-computacao-cognitiva</td>\n",
       "    </tr>\n",
       "    <tr>\n",
       "      <th>4</th>\n",
       "      <td>2016</td>\n",
       "      <td>florianopolis</td>\n",
       "      <td>Como modelar, integrar e desenvolver aplicações com mútliplos bancos de dados NoSQL Com a evolução dos bancos de dados NoSQL tornou-se comum o desenvolvimento de aplicações cujos dados estão armazenados - e replicados - em múltiplos bancos de dados. Nesse cenário, modelar, integrar e desenvolver não é mais como era antigamente. Essa palestra discute arquiteturas, ferramentas e novos padrões de desenvolvimento que permitem explorar ao máximo as capacidades os diversos modelos NoSQL e facilitam sua integração com técnicas tradicionais do desenvolvimento de software.</td>\n",
       "      <td>0.178383</td>\n",
       "      <td>trilha-nosql</td>\n",
       "    </tr>\n",
       "  </tbody>\n",
       "</table>"
      ],
      "text/plain": [
       "<IPython.core.display.HTML object>"
      ]
     },
     "execution_count": 26,
     "metadata": {},
     "output_type": "execute_result"
    }
   ],
   "source": [
    "from IPython.core.display import HTML\n",
    "\n",
    "pd.set_option('display.max_colwidth', -1)\n",
    "HTML(pd.DataFrame(results).to_html())"
   ]
  }
 ],
 "metadata": {
  "kernelspec": {
   "display_name": "Python 3",
   "language": "python",
   "name": "python3"
  },
  "language_info": {
   "codemirror_mode": {
    "name": "ipython",
    "version": 3
   },
   "file_extension": ".py",
   "mimetype": "text/x-python",
   "name": "python",
   "nbconvert_exporter": "python",
   "pygments_lexer": "ipython3",
   "version": "3.6.4"
  }
 },
 "nbformat": 4,
 "nbformat_minor": 2
}
